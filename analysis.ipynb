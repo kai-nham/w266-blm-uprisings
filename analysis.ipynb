{
 "cells": [
  {
   "cell_type": "markdown",
   "metadata": {},
   "source": [
    "# Analysis Notebook\n",
    "\n",
    "Cleaning up data, creating model, etc."
   ]
  },
  {
   "cell_type": "code",
   "execution_count": 1,
   "metadata": {},
   "outputs": [],
   "source": [
    "import pandas as pd\n",
    "import numpy as np\n",
    "import unicodedata\n",
    "import spacy\n",
    "from spacy.symbols import nsubj, VERB\n",
    "from collections import Counter\n",
    "import re"
   ]
  },
  {
   "cell_type": "markdown",
   "metadata": {},
   "source": [
    "### Cleaning Data"
   ]
  },
  {
   "cell_type": "code",
   "execution_count": 2,
   "metadata": {},
   "outputs": [
    {
     "data": {
      "text/html": [
       "<div>\n",
       "<style scoped>\n",
       "    .dataframe tbody tr th:only-of-type {\n",
       "        vertical-align: middle;\n",
       "    }\n",
       "\n",
       "    .dataframe tbody tr th {\n",
       "        vertical-align: top;\n",
       "    }\n",
       "\n",
       "    .dataframe thead th {\n",
       "        text-align: right;\n",
       "    }\n",
       "</style>\n",
       "<table border=\"1\" class=\"dataframe\">\n",
       "  <thead>\n",
       "    <tr style=\"text-align: right;\">\n",
       "      <th></th>\n",
       "      <th>title</th>\n",
       "      <th>link</th>\n",
       "      <th>article_body</th>\n",
       "    </tr>\n",
       "  </thead>\n",
       "  <tbody>\n",
       "    <tr>\n",
       "      <th>0</th>\n",
       "      <td>Restaurant video captured Missouri deputy shoo...</td>\n",
       "      <td>https://apnews.com//db6f22a0fac8c19421ca755c2a...</td>\n",
       "      <td>SEDALIA, Mo. (AP) — A restaurant’s surveillanc...</td>\n",
       "    </tr>\n",
       "    <tr>\n",
       "      <th>1</th>\n",
       "      <td>Delaware lawmakers release bill banning police...</td>\n",
       "      <td>https://apnews.com//3a4a9d79e2b7cce62ac10d774e...</td>\n",
       "      <td>DOVER, Del. (AP) — A proposal by Democratic la...</td>\n",
       "    </tr>\n",
       "    <tr>\n",
       "      <th>2</th>\n",
       "      <td>Country’s oldest city moves to relocate Confed...</td>\n",
       "      <td>https://apnews.com//8ab52f7318690a4708536e77c9...</td>\n",
       "      <td>TALLAHASSEE, Fla. (AP) — Leaders of the countr...</td>\n",
       "    </tr>\n",
       "    <tr>\n",
       "      <th>3</th>\n",
       "      <td>Mourners pay respects to Rayshard Brooks at Eb...</td>\n",
       "      <td>https://apnews.com//9de5db04c653cdde049245d7b3...</td>\n",
       "      <td>ATLANTA (AP) — Mourners filed through Atlanta’...</td>\n",
       "    </tr>\n",
       "    <tr>\n",
       "      <th>4</th>\n",
       "      <td>Las Vegas police pledge more communication at ...</td>\n",
       "      <td>https://apnews.com//19a753a5f9c43c6b2d61f55764...</td>\n",
       "      <td>LAS VEGAS (AP) — Las Vegas police say they wil...</td>\n",
       "    </tr>\n",
       "    <tr>\n",
       "      <th>...</th>\n",
       "      <td>...</td>\n",
       "      <td>...</td>\n",
       "      <td>...</td>\n",
       "    </tr>\n",
       "    <tr>\n",
       "      <th>585</th>\n",
       "      <td>Your coronavirus need-to-know: SAT drops at-ho...</td>\n",
       "      <td>https://www.usatoday.com/story/news/health/202...</td>\n",
       "      <td>Massive protests over death of George Floyd ha...</td>\n",
       "    </tr>\n",
       "    <tr>\n",
       "      <th>586</th>\n",
       "      <td>Did protests fuel COVID-19 cases? Are we alrea...</td>\n",
       "      <td>https://www.usatoday.com/story/news/health/202...</td>\n",
       "      <td>It’s been six months since doctors discovered ...</td>\n",
       "    </tr>\n",
       "    <tr>\n",
       "      <th>587</th>\n",
       "      <td>Flag Day 2020: Americans mark the holiday amid...</td>\n",
       "      <td>https://www.usatoday.com/story/news/2020/06/12...</td>\n",
       "      <td>Flag Day is June 14 and this year it comes at ...</td>\n",
       "    </tr>\n",
       "    <tr>\n",
       "      <th>588</th>\n",
       "      <td>Analysis: Most Florida officers disciplined fo...</td>\n",
       "      <td>https://www.usatoday.com/story/news/2020/06/08...</td>\n",
       "      <td>Most Florida law enforcement and corrections o...</td>\n",
       "    </tr>\n",
       "    <tr>\n",
       "      <th>589</th>\n",
       "      <td>Beyoncé drops 'Black Parade' on Juneteenth, pr...</td>\n",
       "      <td>https://www.usatoday.com/story/entertainment/c...</td>\n",
       "      <td>Beyoncé gifted the world a surprise single on ...</td>\n",
       "    </tr>\n",
       "  </tbody>\n",
       "</table>\n",
       "<p>590 rows × 3 columns</p>\n",
       "</div>"
      ],
      "text/plain": [
       "                                                 title  \\\n",
       "0    Restaurant video captured Missouri deputy shoo...   \n",
       "1    Delaware lawmakers release bill banning police...   \n",
       "2    Country’s oldest city moves to relocate Confed...   \n",
       "3    Mourners pay respects to Rayshard Brooks at Eb...   \n",
       "4    Las Vegas police pledge more communication at ...   \n",
       "..                                                 ...   \n",
       "585  Your coronavirus need-to-know: SAT drops at-ho...   \n",
       "586  Did protests fuel COVID-19 cases? Are we alrea...   \n",
       "587  Flag Day 2020: Americans mark the holiday amid...   \n",
       "588  Analysis: Most Florida officers disciplined fo...   \n",
       "589  Beyoncé drops 'Black Parade' on Juneteenth, pr...   \n",
       "\n",
       "                                                  link  \\\n",
       "0    https://apnews.com//db6f22a0fac8c19421ca755c2a...   \n",
       "1    https://apnews.com//3a4a9d79e2b7cce62ac10d774e...   \n",
       "2    https://apnews.com//8ab52f7318690a4708536e77c9...   \n",
       "3    https://apnews.com//9de5db04c653cdde049245d7b3...   \n",
       "4    https://apnews.com//19a753a5f9c43c6b2d61f55764...   \n",
       "..                                                 ...   \n",
       "585  https://www.usatoday.com/story/news/health/202...   \n",
       "586  https://www.usatoday.com/story/news/health/202...   \n",
       "587  https://www.usatoday.com/story/news/2020/06/12...   \n",
       "588  https://www.usatoday.com/story/news/2020/06/08...   \n",
       "589  https://www.usatoday.com/story/entertainment/c...   \n",
       "\n",
       "                                          article_body  \n",
       "0    SEDALIA, Mo. (AP) — A restaurant’s surveillanc...  \n",
       "1    DOVER, Del. (AP) — A proposal by Democratic la...  \n",
       "2    TALLAHASSEE, Fla. (AP) — Leaders of the countr...  \n",
       "3    ATLANTA (AP) — Mourners filed through Atlanta’...  \n",
       "4    LAS VEGAS (AP) — Las Vegas police say they wil...  \n",
       "..                                                 ...  \n",
       "585  Massive protests over death of George Floyd ha...  \n",
       "586  It’s been six months since doctors discovered ...  \n",
       "587  Flag Day is June 14 and this year it comes at ...  \n",
       "588  Most Florida law enforcement and corrections o...  \n",
       "589  Beyoncé gifted the world a surprise single on ...  \n",
       "\n",
       "[590 rows x 3 columns]"
      ]
     },
     "execution_count": 2,
     "metadata": {},
     "output_type": "execute_result"
    }
   ],
   "source": [
    "raw_data = pd.read_csv('articles.csv')\n",
    "raw_data"
   ]
  },
  {
   "cell_type": "code",
   "execution_count": 3,
   "metadata": {},
   "outputs": [],
   "source": [
    "# Removes unicode characters (e.g. \\xa0) from article body in USA Today stories\n",
    "for i in range(0, 590):\n",
    "    string = raw_data.iloc[i]['article_body']\n",
    "    raw_data.iloc[i]['article_body'] = unicodedata.normalize('NFKD', string)\n",
    "    raw_data.iloc[i]['article_body'] = raw_data.iloc[i]['article_body'].lower()"
   ]
  },
  {
   "cell_type": "markdown",
   "metadata": {},
   "source": [
    "## Analysis"
   ]
  },
  {
   "cell_type": "code",
   "execution_count": 4,
   "metadata": {},
   "outputs": [],
   "source": [
    "# Loads SpaCy model & processes the article bodies in batches of 25\n",
    "nlp = spacy.load(\"en_core_web_md\")\n",
    "unprocessed = list(raw_data['article_body'])\n",
    "articles = list(nlp.pipe(unprocessed, batch_size=25))"
   ]
  },
  {
   "cell_type": "markdown",
   "metadata": {},
   "source": [
    "### Top 50 Most Common Words"
   ]
  },
  {
   "cell_type": "code",
   "execution_count": 5,
   "metadata": {},
   "outputs": [
    {
     "name": "stdout",
     "output_type": "stream",
     "text": [
      "len of corpus: 677931\n",
      "top 50 common words (excluding stop & punctuation): [('said', 12936), ('police', 10419), (' ', 7672), ('floyd', 4636), ('people', 4602), ('officers', 3728), ('black', 3670), ('protests', 3657), ('protesters', 3627), ('trump', 3314), ('city', 3041), ('george', 2854), ('white', 2558), ('president', 2503), ('death', 2377), ('new', 2349), ('officer', 2145), ('department', 1935), ('cnn', 1872), ('minneapolis', 1832), ('state', 1786), ('law', 1760), ('according', 1732), ('house', 1713), ('told', 1682), ('national', 1674), ('protest', 1639), ('country', 1596), ('time', 1546), ('�', 1546), ('night', 1512), ('monday', 1492), ('man', 1436), ('mayor', 1415), ('statement', 1355), ('like', 1348), ('justice', 1314), ('week', 1300), ('video', 1297), ('coronavirus', 1297), ('public', 1285), ('lives', 1262), ('enforcement', 1257), ('day', 1252), ('peaceful', 1187), ('cases', 1182), ('racism', 1138), ('violence', 1125), ('force', 1124), ('matter', 1100)]\n"
     ]
    }
   ],
   "source": [
    "# Getting top 50 most used words in the corpus\n",
    "nested_words = []\n",
    "for doc in articles:\n",
    "    words = [token.text.lower() for token in doc if token.is_stop != True and token.is_punct != True]\n",
    "    nested_words.append(words)\n",
    "    \n",
    "corpus = [item for sublist in nested_words for item in sublist]\n",
    "print(\"len of corpus:\", len(corpus))\n",
    "word_freq = Counter(corpus)\n",
    "print(\"top 50 common words (excluding stop & punctuation):\", word_freq.most_common(50))"
   ]
  },
  {
   "cell_type": "markdown",
   "metadata": {},
   "source": [
    "### Most Similar Words"
   ]
  },
  {
   "cell_type": "code",
   "execution_count": 6,
   "metadata": {},
   "outputs": [
    {
     "name": "stdout",
     "output_type": "stream",
     "text": [
      "top 10 similarities for words of interest:\n"
     ]
    },
    {
     "name": "stderr",
     "output_type": "stream",
     "text": [
      "/home/knham/anaconda3/lib/python3.7/site-packages/ipykernel_launcher.py:2: UserWarning: [W008] Evaluating Doc.similarity based on empty vectors.\n",
      "  \n"
     ]
    },
    {
     "name": "stdout",
     "output_type": "stream",
     "text": [
      "similar words to POLICE: ['police', 'cops', 'officers', 'marshals', 'uniformed', 'deputies', 'arrested', 'arrest', 'authorities', 'sergeant'] \n",
      "\n",
      "similar words to PROTESTS: ['protests', 'protest', 'protesters', 'protester', 'demonstrators', 'clashed', 'marchers', 'rioters', 'protestors', 'protested'] \n",
      "\n",
      "similar words to PROTESTERS: ['protester', 'demonstrators', 'clashed', 'protesters', 'marchers', 'rioters', 'protestors', 'protests', 'protest', 'protested'] \n",
      "\n",
      "similar words to PROTEST: ['protest', 'protests', 'protested', 'protesting', 'protesters', 'protester', 'demonstrators', 'clashed', 'marchers', 'rioters'] \n",
      "\n",
      "similar words to PROTESTER: ['protesters', 'demonstrators', 'clashed', 'protester', 'marchers', 'rioters', 'protestors', 'protests', 'protest', 'protested'] \n",
      "\n",
      "similar words to RIOT: ['riot', 'riots', 'unrest', 'rioting', 'protesters', 'protester', 'demonstrators', 'clashed', 'marchers', 'rioters'] \n",
      "\n",
      "similar words to BLACK: ['black', 'white', 'red', 'brown', 'blue', 'gray', 'dark', 'yellow', 'orange', 'colored'] \n",
      "\n",
      "similar words to WHITE: ['white', 'black', 'blue', 'red', 'yellow', 'brown', 'gray', 'orange', 'colored', 'green'] \n",
      "\n",
      "similar words to VIOLENT: ['violent', 'violence', 'brutal', 'genocidal', 'crime', 'horrific', 'threatening', 'disturbing', 'crimes', 'destructive'] \n",
      "\n",
      "similar words to VIOLENCE: ['violence', 'violent', 'crime', 'brutality', 'crimes', 'killings', 'slayings', 'executions', 'conflict', 'terrorism'] \n",
      "\n",
      "similar words to PEACEFUL: ['peaceful', 'quiet', 'calm', 'peace', 'peaceably', 'peacefully', 'welcoming', 'beautiful', 'surrounded', 'flanked'] \n",
      "\n"
     ]
    }
   ],
   "source": [
    "def most_similar(word):\n",
    "    by_similarity = sorted(word.vocab, key=lambda w: word.similarity(w), reverse=True)\n",
    "    return [w.orth_ for w in by_similarity[:10]]\n",
    "\n",
    "print(\"top 10 similarities for words of interest:\")\n",
    "print('similar words to POLICE:', most_similar(nlp('police')), \"\\n\")\n",
    "print('similar words to PROTESTS:', most_similar(nlp('protests')), \"\\n\")\n",
    "print('similar words to PROTESTERS:', most_similar(nlp('protesters')), \"\\n\")\n",
    "print('similar words to PROTEST:', most_similar(nlp('protest')), \"\\n\")\n",
    "print('similar words to PROTESTER:', most_similar(nlp('protester')), \"\\n\")\n",
    "print('similar words to RIOT:', most_similar(nlp('riot')), \"\\n\")\n",
    "print('similar words to BLACK:', most_similar(nlp('black')), \"\\n\")\n",
    "print('similar words to WHITE:', most_similar(nlp('white')), \"\\n\")\n",
    "print('similar words to VIOLENT:', most_similar(nlp('violent')), \"\\n\")\n",
    "print('similar words to VIOLENCE:', most_similar(nlp('violence')), \"\\n\")\n",
    "print('similar words to PEACEFUL:', most_similar(nlp('peaceful')), \"\\n\")"
   ]
  },
  {
   "cell_type": "code",
   "execution_count": 7,
   "metadata": {},
   "outputs": [
    {
     "name": "stdout",
     "output_type": "stream",
     "text": [
      "similarities between words of interest:\n",
      "similarity between POLICE and VIOLENCE: 0.5241225354674653\n",
      "similarity between POLICE and VIOLENT: 0.4823528274605144\n",
      "similarity between POLICE and WHITE: 0.21429311719809296\n",
      "similarity between POLICE and BLACK: 0.2553994971490491\n",
      "similarity between POLICE and PROTESTS: 0.46271436290191487\n",
      "similarity between POLICE and PEACEFUL: 0.274091132376229\n",
      "similarity between POLICE and RIOT: 0.5751548483597106\n",
      "\n",
      "\n",
      "similarity between PROTESTS and VIOLENCE: 0.5586057544737452\n",
      "similarity between PROTESTS and VIOLENT: 0.525904275709895\n",
      "similarity between PROTESTS and BLACK: 0.1462950580648276\n",
      "similarity between PROTESTS and WHITE: 0.11793965752726573\n",
      "similarity between PROTESTS and PEACEFUL: 0.44062706988634903\n",
      "\n",
      "\n",
      "similarity between PROTESTERS and VIOLENCE: 0.47343999882244225\n",
      "similarity between PROTESTERS and VIOLENT: 0.46465988407431974\n",
      "similarity between PROTESTERS and BLACK: 0.1700303625398976\n",
      "similarity between PROTESTERS and WHITE: 0.15161536152331864\n",
      "similarity between PROTESTERS and PEACEFUL: 0.4288951782702223\n",
      "\n",
      "\n",
      "similarity between RIOT and VIOLENCE: 0.5468232602672563\n",
      "similarity between RIOT and VIOLENT: 0.5629363488533595\n",
      "similarity between RIOT and WHITE: 0.21932634322386224\n",
      "similarity between RIOT and BLACK: 0.23899692284374321\n",
      "similarity between RIOT and PROTESTS: 0.5977674061834914\n",
      "similarity between RIOT and PEACEFUL: 0.3593409634098052\n"
     ]
    }
   ],
   "source": [
    "print(\"similarities between words of interest:\")\n",
    "print(\"similarity between POLICE and VIOLENCE:\", nlp('police').similarity(nlp('violence')))\n",
    "print(\"similarity between POLICE and VIOLENT:\", nlp('police').similarity(nlp('violent')))\n",
    "print(\"similarity between POLICE and WHITE:\", nlp('police').similarity(nlp('white')))\n",
    "print(\"similarity between POLICE and BLACK:\", nlp('police').similarity(nlp('black')))\n",
    "print(\"similarity between POLICE and PROTESTS:\", nlp('police').similarity(nlp('protests')))\n",
    "print(\"similarity between POLICE and PEACEFUL:\", nlp('police').similarity(nlp('peaceful')))\n",
    "print(\"similarity between POLICE and RIOT:\", nlp('police').similarity(nlp('riot')))\n",
    "print(\"\\n\")\n",
    "print(\"similarity between PROTESTS and VIOLENCE:\", nlp('protests').similarity(nlp('violence')))\n",
    "print(\"similarity between PROTESTS and VIOLENT:\", nlp('protests').similarity(nlp('violent')))\n",
    "print(\"similarity between PROTESTS and BLACK:\", nlp('protests').similarity(nlp('black')))\n",
    "print(\"similarity between PROTESTS and WHITE:\", nlp('protests').similarity(nlp('white')))\n",
    "print(\"similarity between PROTESTS and PEACEFUL:\", nlp('protests').similarity(nlp('peaceful')))\n",
    "print(\"\\n\")\n",
    "print(\"similarity between PROTESTERS and VIOLENCE:\", nlp('protesters').similarity(nlp('violence')))\n",
    "print(\"similarity between PROTESTERS and VIOLENT:\", nlp('protesters').similarity(nlp('violent')))\n",
    "print(\"similarity between PROTESTERS and BLACK:\", nlp('protesters').similarity(nlp('black')))\n",
    "print(\"similarity between PROTESTERS and WHITE:\", nlp('protesters').similarity(nlp('white')))\n",
    "print(\"similarity between PROTESTERS and PEACEFUL:\", nlp('protesters').similarity(nlp('peaceful')))\n",
    "print(\"\\n\")\n",
    "print(\"similarity between RIOT and VIOLENCE:\", nlp('riot').similarity(nlp('violence')))\n",
    "print(\"similarity between RIOT and VIOLENT:\", nlp('riot').similarity(nlp('violent')))\n",
    "print(\"similarity between RIOT and WHITE:\", nlp('riot').similarity(nlp('white')))\n",
    "print(\"similarity between RIOT and BLACK:\", nlp('riot').similarity(nlp('black')))\n",
    "print(\"similarity between RIOT and PROTESTS:\", nlp('riot').similarity(nlp('protests')))\n",
    "print(\"similarity between RIOT and PEACEFUL:\", nlp('riot').similarity(nlp('peaceful')))"
   ]
  },
  {
   "cell_type": "markdown",
   "metadata": {},
   "source": [
    "### Connotation Frames"
   ]
  },
  {
   "cell_type": "code",
   "execution_count": 8,
   "metadata": {},
   "outputs": [],
   "source": [
    "police_verbs = []\n",
    "protester_verbs = []"
   ]
  },
  {
   "cell_type": "code",
   "execution_count": 9,
   "metadata": {},
   "outputs": [],
   "source": [
    "def get_verbs(subj, lst):\n",
    "    for doc in articles:\n",
    "        for possible_subject in doc:\n",
    "            if possible_subject.text == subj and possible_subject.dep == nsubj and possible_subject.head.pos == VERB:\n",
    "                lst.append(possible_subject.head)"
   ]
  },
  {
   "cell_type": "code",
   "execution_count": 10,
   "metadata": {},
   "outputs": [
    {
     "name": "stdout",
     "output_type": "stream",
     "text": [
      "[cleared, investigating, initiates, noted, respond, put, inflaming, doing, cleared, said, found, firing, use, target, began, expanded, began, cleared, expanded, go, dispersed, use, use, dispersed, forced, began, firing, arrive, made, cleared, realize, began, made, dominate, began, dominate, respond, deploying, said, took, say, sees, joined, needs, doing, began, needs, made, uses, put, found, slashed, deployed, donned, cleared, pushed, stationed, used, clashed, provide, set, identify, gathering, shoots, aimed, come, stood, decided, cleared, worked, opened, cleared, disappear, stopped, shift, descended, looking, cleared, approached, blocked, appeared, investigate, speaks, realized, seemed, received, kept]\n"
     ]
    }
   ],
   "source": [
    "get_verbs(\"enforcement\", police_verbs)\n",
    "print(police_verbs)"
   ]
  },
  {
   "cell_type": "code",
   "execution_count": 11,
   "metadata": {},
   "outputs": [
    {
     "name": "stdout",
     "output_type": "stream",
     "text": [
      "[cleared, investigating, initiates, noted, respond, put, inflaming, doing, cleared, said, found, firing, use, target, began, expanded, began, cleared, expanded, go, dispersed, use, use, dispersed, forced, began, firing, arrive, made, cleared, realize, began, made, dominate, began, dominate, respond, deploying, said, took, say, sees, joined, needs, doing, began, needs, made, uses, put, found, slashed, deployed, donned, cleared, pushed, stationed, used, clashed, provide, set, identify, gathering, shoots, aimed, come, stood, decided, cleared, worked, opened, cleared, disappear, stopped, shift, descended, looking, cleared, approached, blocked, appeared, investigate, speaks, realized, seemed, received, kept, say, communicate, said, say, pursued, asked, retreated, said, say, said, doing, arrested, said, left, say, declared, said, retreated, had, arrested, said, declared, said, said, arrested, said, said, moved, said, retake, lives, came, told, abandoned, attempted, investigating, made, arrested, said, said, said, broke, broke, declared, said, told, said, return, injure, continue, push, responded, tried, fired, fired, tried, treated, responding, walking, deployed, taunted, dispersed, see, approached, dispersed, responding, walking, deployed, urged, said, tweeted, asking, said, tell, say, said, said, leaving, boarded, get, said, tweeted, asking, said, tell, shot, released, moved, arrested, arrested, said, doing, looting, tweeted, asking, used, offers, said, wanted, broke, announced, arrested, arrested, carry, gave, said, confiscated, used, jumped, said, confirmed, said, doing, doing, doing, tried, said, said, confiscated, added, said, added, responded, responded, said, released, said, said, returned, released, confirmed, gone, come, said, said, release, arrested, said, describes, declared, said, detained, declared, tweeted, said, working, release, said, used, say, responding, released, responding, released, released, say, asked, adopt, brutalize, investigating, said, responded, moved, responding, responding, need, moved, looking, shot, killed, showed, received, use, used, say, say, receive, made, provided, responding, need, looking, boarded, received, adjust, arrested, said, warned, worked, responded, gave, fired, use, moved, burst, see, used, worked, shooting, apprehended, saying, arrested, tried, requested, banned, telling, said, working, gave, banned, killed, used, imposed, released, operate, used, gave, used, worked, argued, investigated, clash, clash, line, work, separate, used, released, operate, said, reach, chokehold, want, boarded, urged, said, told, banned, arrested, requesting, declared, said, say, decided, released, said, say, said, said, said, say, cleared, found, conduct, done, saw, responding, decided, doing, remained, dominate, warned, received, urged, come, said, said, released, said, left, trying, shot, lives, sprayed, wanted, think, categorize, report, continued, called, restrain, killed, acted, tracked, observed, found, watched, say, arrested, restrain, use, pushed, treat, received, grab, tell, going, used, letting, arrested, managed, began, said, handled, firing, moved, said, told, used, use, took, loaded, facing, said, faced, said, shoot, launched, trying, said, said, said, said, said, wanted, facing, say, said, said, said, deployed, asked, set, took, stand, appear, made, said, used, tweeted, said, appear, enforcing, told, came, estimated, say, create, doing, called, deployed, shot, dispersing, appear, enforcing, told, taken, walking, firing, estimating, reevaluate, said, said, sought, issued, say, calling, started, issued, made, decided, issued, said, said, said, felt, say, issued, amended, showing, released, shot, appeared, using, said, released, say, said, said, said, said, swarming, feel, respect, charge, said, monitoring, issued, amended, took, looking, say, released, loaded, fired, allowed, arrested, begun, numbered, engage, stopped, said, calling, working, responded, said, formed, said, arrested, said, said, said, trying, tried, arrive, issued, urged, knew, made, arrested, joined, arrested, said, said, chosen, arrested, sending, expect, handle, support, arrested, responded, addressing, investigating, say, investigating, arrested, said, firing, inflaming, defended, broke, claimed, refused, give, loaded, closing, forced, slicing, treat, approaching, approached, begun, numbered, engage, told, withdrawn, put, reduce, investigating, say, firing, told, fired, say, tried, conduct, dispersed, told, fired, used, fired, say, preventing, taken, said, deployed, warned, said, hitting, take, arrested, waiting, allowed, stood, used, began, said, shooting, responded, arrived, clash, arrested, allowed, appear, standing, began, allowed, stood, taking, standing, said, treat, commended, piecing, says, knelt, fired, formed, noted, beat, need, appeared, moved, tried, beginning, say, said, said, tweeted, lined, allowing, stand, taking, standing, used, waiting, got, fired, tweeted, paying, started, swarmed, dispersed, tweeted, fired, moved, pushing, believed, broadcast, engaged, stop, shown, tweeted, reported, deal, used, hitting, coming, fired, sent, joining, said, said, investigating, told, told, made, arrested, said, said, used, released, arrested, said, clashed, fired, continue, start, confirm, say, reviewing, believed, swarmed, issued, issued, pressed, began, said, tweeted, engaged, investigating, told, said, escalating, use, expect, used, trying, said, investigate, cleared, released, struggling, said, arresting, said, engage, made, clashed, fired, continue, released, firing, used, responded, said, said, deployed, said, apologized, arrested, released, appeared, said, made, told, made, engaged, arrested, said, said, deemed, said, used, said, said, said, told, following, arrested, responded, said, tweeted, struggling, said, said, said, sent, said, determined, said, made, said, arrested, used, said, calling, advanced, came, shoot, said, gathered, struggling, confirm, deemed, said, said, said, said, pelted, arrived, responded, used, arrested, said, expect, killing, knew, investigating, investigating, lined, said, fired, said, braced, said, fired, used, said, said, began, firing, said, stayed, started, acting, tweeted, said, said, arrested, said, tweeted, hit, worked, began, began, telling, shot, tried, tweeted, encouraging, arrested, announced, announced, support, used, said, requested, said, investigating, said, declared, said, said, said, said, confirm, deployed, apologized, said, said, described, said, responded, lined, detained, made, attempted, said, issued, said, said, continue, holding, giving, responding, tried, warned, lined, prevent, going, arrived, told, said, throwing, tweeted, say, seen, released, evacuated, set, made, know, know, put, said, helped, said, arrested, said, lined, say, told, going, leave, appeared, placed, responded, said, said, said, arrived, said, said, released, said, attempted, said, said, said, said, used, said, arrived, working, arrived, braced, said, responded, shooting, issued, kept, fired, tell, responded, saw, waited, waited, said, set, used, erected, started, setting, pulling, end, arrested, continued, said, banned, sent, protesting, estimated, wear, requested, pushing, used, connect, blocked, fired, said, marching, made, blocked, declared, investigating, responded, declared, fanned, fired, entered, shot, forced, reported, clashed, apologized, open, waiting, cleared, slowed, cleared, used, said, arrested, shot, use, warned, continue, approached, need, need, patrolled, pulled, deployed, sprayed, cracked, said, said, said, used, responded, found, say, took, say, said, used, met, used, erected, started, arrested, reported, marching, believe, using, blocked, arrested, declared, announced, said, said, said, described, arrested, charged, provided, pointed, claimed, arrived, pushed, killed, confronting, sought, announced, work, told, preparing, searching, tweeted, implemented, killed, killed, seemed, said, pushed, showed, arrested, prohibited, advanced, came, responded, pulling, released, respond, think, think, pushing, ask, disputed, turned, wrestle, hit, investigate, shooting, say, said, released, released, deploy, respond, told, told, investigating, used, cleared, stood, resound, pledged, said, stop, rendered, used, arrived, reacted, pinned, respond, declined, said, urged, said, working, resound, pledged, said, rendered, found, stunned, fired, doing, said, said, said, began, use, use, shot, shot, shot, cracked, said, say, claimed, said, used, responded, found, say, fired, told, know, poured, raided, shot, detained, shot, fired, shut, declared, said, seeking, said, identified, said, return, shot, opened, said, made, converge, converge, arrested, began, bashed, gathering, tweeted, descended, tried, coordinated, pushed, shouting, handcuffed, declined, arrived, used, make, forced, investigating, fired, pushed, squeezed, enforcing, launched, launched, detained, said, killed, investigating, said, entered, make, opened, interviewing, returned, say, arrested, took, firing, fired, put, shifted, erected, put, began, seemed, worked, arrested, arrested, holding, standing, say, arrested, avoided, manage, find, gassed, moved, drew, charged, doing, let, clashed, said, said, deemed, made, recovered, wrote, mention, wrote, announced, said, said, investigate, investigating, began, said, blocked, helping, helping, used, fired, surrounded, said, formed, closed, backed, led, removed, make, forced, fired, pushed, throw, squeezed, arrested, made, pushed, lobbed, arrested, focus, arrive, continue, make, cleared, disperse, dispersed, announced, charged, taking, responded, promised, submit, monitor, walked, arrested, appeared, tear, advancing, began, waited, shut, unleashed, responded, deployed, start, closed, charged, launched, learned, received, arrived, pelted, opened, arrested, opened, interviewing, returned, say, took, grappled, said, fired, firing, fired, said, ordered, walking, fired, started, release, said, began, barricaded, fired, escalate, girding, denounced, taken, escorted, arrested, tweeted, said, told, said, said, investigating, turned, increased, said, closed, showed, tweeted, shut, reported, draw, lounging, stayed, characterized, crowded, aimed, lining, said, said, use, moving, let, appeared, moved, arresting, patrolled, pulled, deployed, sprayed, fired, forced, fall, responded, enforce, shot, protecting, closed, deny, comes, comes, said, said, grappled, need, restrained, said, say, subjected, said, using, moved, try, serve, protected, encircled, opened, tuned, treat, use, shot, shot, shot, shot, reported, added, patrol, shoot, shooting, said, killed, patrol, making, shot, responded, shot, shot, need, use, shoot, released, done, need, harass, release, allowed, told, stop, drove, tried, protesting, started, stop, need, began, prohibit, detained, reported, said, said, said, keep, crack, get, prohibit, recruit, assist, used, converged, started, appeared, formed, backed, led, removed, say, entered, used, shot, said, instructed, arrested, declared, push, used, declared, joined, reveal, believe, believe, come, targeted, took, apologized, arrested, sprayed, administered, shoved, dispersed, tried, fired, fired, tried, pushed, arrested, sprayed, shot, responded, responded, raided, say, said, investigating, said, investigating, removed, continue, deployed, left, fired, said, announced, arrived, fired, dispersed, said, said, shared, announced, arrested, used, firing, responded, pushed, fired, arrest, worked, set, opted, let, following, moved, said, stood, warned, said, urged, said, used, deployed, deployed, closed, gained, reported, say, watched, broke, said, obliged, speak, engaged, kneeling, deployed, ignored, came, appeared, shot, use, clashed, formed, used, withdrew, lied, came, violated, shot, searching, said, said, began, said, gave, weigh, said, shut, responded, released, said, said, release, continue, stay, react, said, dispersed, arrested, leverage, used, issued, use, work, use, contribute, held, received, say, shot, said, make, killed, killed, killed, regulating, show, obtained, obtained, received, received, say, said, try, release, pulled, perceived, responded, decide]\n"
     ]
    }
   ],
   "source": [
    "get_verbs(\"police\", police_verbs)\n",
    "print(police_verbs)"
   ]
  },
  {
   "cell_type": "code",
   "execution_count": 12,
   "metadata": {
    "scrolled": true
   },
   "outputs": [
    {
     "name": "stdout",
     "output_type": "stream",
     "text": [
      "[swarmed, want, calling, showed, toppled, set, read, returned, marched, held, pulled, called, marched, enacted, cordoned, sued, cried, left, brought, march, try, try, trying, surround, occupied, marched, lie, stretch, walk, pack, take, gather, use, gather, hold, pack, kneel, walk, lie, ride, gather, raise, pass, drawn, clear, dismantled, vandalized, tear, took, tore, feel, taken, marched, attempted, tried, attempted, trying, clear, attempted, face, tried, clear, trying, taken, attempted, face, tried, told, grab, clear, trying, put, established, attempted, toppled, take, attempted, toppled, wearing, chanting, gathered, confronting, yell, hit, expressed, take, gather, kept, understand, walked, topple, toppled, appeared, demanding, pulled, tied, marched, put, dragged, took, kept, trying, planning, understand, pulled, tied, marched, put, dragged, pulled, pulled, awakened, protecting, choose, speak, taken, planned, clashed, taking, shut, dispersing, engaging, began, comply, spent, testify, painted, trying, occupied, rallying, took, awakened, make, taken, engaging, began, comply, started, vandalized, brought, dismantled, called, lit, pointing, refused, occupied, occupied, appeared, flooded, called, reacting, flooded, attempted, shut, taken, attempted, gathered, intervened, assembled, arrived, blocked, underwent, taken, shut, shut, attempted, gathered, hung, plan, set, gathered, damaged, kneeled, called, believe, seemed, kneeled, marched, tore, loaded, took, damaged, demonstrated, begun, firing, use, gathered, use, wrenched, occupied, flooded, surrounded, returned, began, headed, blocked, throw, march, gather, hold, conduct, kneeling, demonstrate, take, took, raise, rallied, gather, toppled, occupied, taken, began, hung, demanded, engaging, igniting, point, demanded, occupied, flooded, demanded, claim, help, throw, shout, took, challenged, point, dismantled, demanded, occupied, flooded, established, shut, said, camped, calling, pulled, surrounded, remove, marching, challenged, thought, stay, participate, pass, took, attacked, vandalized, tied, remove, marched, left, pulled, confronting, demonstrate, turned, pulled, defacing, calling, demanded, marching, rode, flooded, called, called, took, arrived, knelt, gathered, took, calling, demanded, pulled, threw, gathered, demanded, holding, gather, used, wore, marched, adhere, toppled, gathered, gathered, took, calling, demanded, pulled, tied, demonstrating, adhere, took, organized, lay, pulled, tied, joined, pulling, wearing, infiltrating, lined, adhere, adhere, taking, demonstrating, wore, standing, used, calling, stand, marched, asked, headed, danced, threw, marching, marching, demonstrating, marching, adopted, appeared, pulled, tied, added, participated, cheered, chronicled, shown, build, danced, threw, marching, marching, demonstrating, marching, adopted, gathering, chanting, demonstrating, filled, stopped, rallied, joined, gathered, waving, need, rally, going, started, started, finishing, poured, clashed, dispersed, started, finishing, rallied, taken, chanted, threw, ignored, gathering, gathered, chant, demonstrating, reached, faced, kneeling, set, faced, chanting, gathered, scrambled, stood, marched, gathered, gathered, threw, run, disperse, throwing, come, swarmed, overtook, pulled, clashing, kneeling, smashed, chanted, approached, abutting, gathered, gathered, threw, continue, sought, believe, defacing, gathered, calling, tried, argue, allege, throwing, gather, throwing, throwing, filed, filed, need, could, entered, shouted, calling, learned, chant, guarantee, demonstrating, reached, faced, engaged, captured, filed, gathered, behaving, demanded, kneeling, rally, clashed, link, overtook, stayed, marching, began, took, cheered, argue, chanting, take, gathered, plan, splintered, walk, gathered, threw, going, clashed, deployed, trying, turn, try, throwing, tending, arrested, gathered, walk, walk, walked, splintered, walked, singing, become, captured, courted, got, carrying, lie, lie, demonstrate, lie, lie, block, lie, lie, lie, lie, emerged, cheered, clashed, started, serve, shouted, worn, flouted, come, got, come, came, rallied, marched, argue, allege, dwindled, walk, walk, splintered, arrested, gathered, walk, faced, splintered, walking, try, gathered, continued, marching, indicated, asked, want, marching, walked, hugged, expressed, marched, showed, broke, demonstrating, throw, demand, attempted, defied, gathered, responded, told, hurling, begun, marched, facing, appears, shout, say, believe, spotted, gathering, confronted, gathered, set, acting, stood, running, committing, responding, told, hurling, begun, marched, facing, attempting, want, speaking, pushed, took, gathered, disperse, began, began, brought, gathered, breached, running, accused, taken, gathered, broken, set, faced, chanting, gathered, demanding, attempted, meet, toppled, pressed, dispersed, hurled, facing, marched, rallied, marched, clashing, filming, headed, running, accused, took, love, look, emerged, gathered, gathered, confronted, wrestled, pushed, held, became, became, blocking, say, pulled, gathered, put, kneeling, doing, crowded, screamed, doing, chanted, scream, seemed, know, demanding, lined, knelt, hid, came, coming, gathered, vandalized, gathered, chanted, assembled, began, blocked, gathering, vandalizing, gathered, moved, kicked, stood, vandalized, appeared, make, appear, vandalizing, clashed, said, standing, throwing, voice, clashed, marched, arrived, knelt, damaged, exceeded, destroyed, gathered, took, blanketed, confronted, pushed, wrestled, gathered, began, began, marched, told, took, took, caused, left, ignored, march, threw, made, took, gathered, brought, took, gathered, head, continue, confronted, taken, starting, threw, damaged, threw, breached, continue, standing, thrown, kneeled, clashed, threw, arrived, mounting, torched, appeared, made, demanded, began, began, began, burned, responded, faced, took, set, faced, marched, blocked, demand, entered, setting, responding, fighting, crying, lash, gathered, clash, confronted, wrestled, pushed, gathered, marched, protect, gather, clashed, chanted, pushed, doused, brought, express, chanted, taken, refused, marched, took, attempted, hear, threw, taking, clashed, smashed, clashed, threw, stopped, took, calling, wanted, shut, asked, descended, threw, said, crammed, clashed, filed, presented, returned, sprayed, threw, poured, carried, shut, held, marched, broke, threw, threw, chanted, chanted, sprayed, throw, began, gathered, dispersing, convened, returned, included, faced, remained, tried, seem, said, knelt, encountered, started, marched, got, say, resisted, throwing, lobbed, hit, appeared, gathered, showed, waved, gathered, gathered, pointed, toppled, found, clashed, stopped, continue, clashed, pushed, returned, filed, presented, gathered, clogged, going, spilled, chanted, moved, urged, threw, carried, gathered, set, marched, began, showing, chanted, called, walked, faced, worn, shouted, shouted, destroyed, started, know, start, pried, stayed, pulled, tossed, cheered, pulled, toppled, flooded, suing, converted, massed, chanted, wrote, painted, added, gathered, breached, breach, threw, massed, chanted, wrote, painted, added, surrounded, marched, found, marching, toppled, appearing, resisted, throwing, lobbed, hit, crashed, threw, throwing, began, intensified, filled, appeared, went, getting, said, gathered, fleeing, dispersed, faced, fortified, gathered, skewed, shouted, dispersed, gathered, walked, handed, walked, gathered, told, marched, jumped, scatter, walked, pressed, congregated, made, congregating, protecting, channel, clashed, gathering, get, demanding, seemed, hurled, took, tore, tear, sought, set, set, tried, began, vandalizing, described, spent, moved, left, erupted, singing, read, crisscrossed, congregated, giving, come, gravitated, continue, arriving, come, arrived, started, knelt, decry, gassed, vandalized, pulled, blared, filled, began, yelled, breached, continued, went, chanted, calling, remained, gathered, stood, fled, said, see, took, pressed, set, passed, fled, gathered, blocked, showed, blocking, traded, pass, yelling, blurred, seeking, called, faced, trying, hit, pursued, see, flowed, started, run, found, launched, threw, rejoined, admonished, sat, gather, began, climbed, taken, called, mill, marched, ran, pointed, yelled, shaking, asked, chanted, said, confronted, walked, remain, swarmed, encountered, shouted, gathered, decried, exercise, cheered, take, injured, left, raced, took, demanding, tore, tear, set, set, tried, began, vandalizing, chanted, set, went, pulled, threw, described, spent, erupted, tossing, marched, began, tripping, smeared, said, lobbed, started, return, decried, marched, chanted, said, clashed, marched, destroyed, decried, targeted, poured, gotten, disperse, throwing, demonstrate, gathered, knelt, need, got, stopped, chanted, ran, packed, eating, seeking, hurrying, used, went, stayed, danced, patrolling, handed, clipped, decided, milled, want, march, rose, breached, organize, begun, jumped, started, implore, rose, began, clash, included, faced, remained, tried, seem, said, knelt, encountered, started, marched, got, attached, said, break, find, appeared, breaking, seek, took, massed, flowed, laughed, shook, called, visited, hoped, said, drifted, defaced, gassed, see, danced, moved, peered, found, returning, ascend, packed, expect, marched, plan, held, blocked, stayed, remained, chanting, blared, cleared, took, began, danced, marched, arrested, marching, taken, decide, walked, continued, wondered, clash, shouted, realized, climbed, rushing, wandered, remained, getting, breached, blocked, breached, resisted, tried, gathered, toppled, taken, taking, ransacked, showed, lament, pummeled, stopped, vandalized, gained, continue, took, called, skirmished, faced, threw, marched, stood, tried, threw, began, reported, looted, chanted, reported, forced, decorated, gathered, returned, arrived, moved, negotiated, disperse, ran, shattered, marched, linked, began, began, said, cheered, jammed, marched, march, clashed, sought, tried, threw, set, marched, had, swung, demand, say, expressed, stormed, massed, showed, join, demand, marched, blocked, acting, running, blocked, walked, had, demand, stop, surge, continued, smashed, vandalized, came, say, stay, want, tried, tried, smashed, entered, hit, taken, marched, worked, rip, continued, toppled, lament, lament, knelt, flown]\n"
     ]
    }
   ],
   "source": [
    "get_verbs(\"protesters\", protester_verbs)\n",
    "print(protester_verbs)"
   ]
  },
  {
   "cell_type": "code",
   "execution_count": 13,
   "metadata": {},
   "outputs": [],
   "source": [
    "lemm_police_verbs = []\n",
    "lemm_protester_verbs = []\n",
    "\n",
    "def lemma(lst, new_lst):\n",
    "    for word in lst:\n",
    "        new_lst.append(word.lemma_)"
   ]
  },
  {
   "cell_type": "code",
   "execution_count": 14,
   "metadata": {},
   "outputs": [
    {
     "name": "stdout",
     "output_type": "stream",
     "text": [
      "['clear', 'investigate', 'initiate', 'note', 'respond', 'put', 'inflame', 'do', 'clear', 'say', 'find', 'fire', 'use', 'target', 'begin', 'expand', 'begin', 'clear', 'expand', 'go', 'disperse', 'use', 'use', 'disperse', 'force', 'begin', 'fire', 'arrive', 'make', 'clear', 'realize', 'begin', 'make', 'dominate', 'begin', 'dominate', 'respond', 'deploy', 'say', 'take', 'say', 'see', 'join', 'need', 'do', 'begin', 'need', 'make', 'use', 'put', 'find', 'slash', 'deploy', 'don', 'clear', 'push', 'station', 'use', 'clash', 'provide', 'set', 'identify', 'gather', 'shoot', 'aim', 'come', 'stand', 'decide', 'clear', 'work', 'open', 'clear', 'disappear', 'stop', 'shift', 'descend', 'look', 'clear', 'approach', 'block', 'appear', 'investigate', 'speak', 'realize', 'seem', 'receive', 'keep', 'say', 'communicate', 'say', 'say', 'pursue', 'ask', 'retreat', 'say', 'say', 'say', 'do', 'arrest', 'say', 'leave', 'say', 'declare', 'say', 'retreat', 'have', 'arrest', 'say', 'declare', 'say', 'say', 'arrest', 'say', 'say', 'move', 'say', 'retake', 'live', 'come', 'tell', 'abandon', 'attempt', 'investigate', 'make', 'arrest', 'say', 'say', 'say', 'break', 'break', 'declare', 'say', 'tell', 'say', 'return', 'injure', 'continue', 'push', 'respond', 'try', 'fire', 'fire', 'try', 'treat', 'respond', 'walk', 'deploy', 'taunt', 'disperse', 'see', 'approach', 'disperse', 'respond', 'walk', 'deploy', 'urge', 'say', 'tweet', 'ask', 'say', 'tell', 'say', 'say', 'say', 'leave', 'board', 'get', 'say', 'tweet', 'ask', 'say', 'tell', 'shoot', 'release', 'move', 'arrest', 'arrest', 'say', 'do', 'loot', 'tweet', 'ask', 'use', 'offer', 'say', 'want', 'break', 'announce', 'arrest', 'arrest', 'carry', 'give', 'say', 'confiscate', 'use', 'jump', 'say', 'confirm', 'say', 'do', 'do', 'do', 'try', 'say', 'say', 'confiscate', 'add', 'say', 'add', 'respond', 'respond', 'say', 'release', 'say', 'say', 'return', 'release', 'confirm', 'go', 'come', 'say', 'say', 'release', 'arrest', 'say', 'describe', 'declare', 'say', 'detain', 'declare', 'tweet', 'say', 'work', 'release', 'say', 'use', 'say', 'respond', 'release', 'respond', 'release', 'release', 'say', 'ask', 'adopt', 'brutalize', 'investigate', 'say', 'respond', 'move', 'respond', 'respond', 'need', 'move', 'look', 'shoot', 'kill', 'show', 'receive', 'use', 'use', 'say', 'say', 'receive', 'make', 'provide', 'respond', 'need', 'look', 'board', 'receive', 'adjust', 'arrest', 'say', 'warn', 'work', 'respond', 'give', 'fire', 'use', 'move', 'burst', 'see', 'use', 'work', 'shoot', 'apprehend', 'say', 'arrest', 'try', 'request', 'ban', 'tell', 'say', 'work', 'give', 'ban', 'kill', 'use', 'impose', 'release', 'operate', 'use', 'give', 'use', 'work', 'argue', 'investigate', 'clash', 'clash', 'line', 'work', 'separate', 'use', 'release', 'operate', 'say', 'reach', 'chokehold', 'want', 'board', 'urge', 'say', 'tell', 'ban', 'arrest', 'request', 'declare', 'say', 'say', 'decide', 'release', 'say', 'say', 'say', 'say', 'say', 'say', 'clear', 'find', 'conduct', 'do', 'see', 'respond', 'decide', 'do', 'remain', 'dominate', 'warn', 'receive', 'urge', 'come', 'say', 'say', 'release', 'say', 'leave', 'try', 'shoot', 'live', 'spray', 'want', 'think', 'categorize', 'report', 'continue', 'call', 'restrain', 'kill', 'act', 'track', 'observe', 'find', 'watch', 'say', 'arrest', 'restrain', 'use', 'push', 'treat', 'receive', 'grab', 'tell', 'go', 'use', 'let', 'arrest', 'manage', 'begin', 'say', 'handle', 'fire', 'move', 'say', 'tell', 'use', 'use', 'take', 'load', 'face', 'say', 'face', 'say', 'shoot', 'launch', 'try', 'say', 'say', 'say', 'say', 'say', 'want', 'face', 'say', 'say', 'say', 'say', 'deploy', 'ask', 'set', 'take', 'stand', 'appear', 'make', 'say', 'use', 'tweet', 'say', 'appear', 'enforce', 'tell', 'come', 'estimate', 'say', 'create', 'do', 'call', 'deploy', 'shoot', 'disperse', 'appear', 'enforce', 'tell', 'take', 'walk', 'fire', 'estimate', 'reevaluate', 'say', 'say', 'seek', 'issue', 'say', 'call', 'start', 'issue', 'make', 'decide', 'issue', 'say', 'say', 'say', 'feel', 'say', 'issue', 'amend', 'show', 'release', 'shoot', 'appear', 'use', 'say', 'release', 'say', 'say', 'say', 'say', 'say', 'swarm', 'feel', 'respect', 'charge', 'say', 'monitor', 'issue', 'amend', 'take', 'look', 'say', 'release', 'load', 'fire', 'allow', 'arrest', 'begin', 'number', 'engage', 'stop', 'say', 'call', 'work', 'respond', 'say', 'form', 'say', 'arrest', 'say', 'say', 'say', 'try', 'try', 'arrive', 'issue', 'urge', 'know', 'make', 'arrest', 'join', 'arrest', 'say', 'say', 'choose', 'arrest', 'send', 'expect', 'handle', 'support', 'arrest', 'respond', 'address', 'investigate', 'say', 'investigate', 'arrest', 'say', 'fire', 'inflame', 'defend', 'break', 'claim', 'refuse', 'give', 'load', 'close', 'force', 'slice', 'treat', 'approach', 'approach', 'begin', 'number', 'engage', 'tell', 'withdraw', 'put', 'reduce', 'investigate', 'say', 'fire', 'tell', 'fire', 'say', 'try', 'conduct', 'disperse', 'tell', 'fire', 'use', 'fire', 'say', 'prevent', 'take', 'say', 'deploy', 'warn', 'say', 'hit', 'take', 'arrest', 'wait', 'allow', 'stand', 'use', 'begin', 'say', 'shoot', 'respond', 'arrive', 'clash', 'arrest', 'allow', 'appear', 'stand', 'begin', 'allow', 'stand', 'take', 'stand', 'say', 'treat', 'commend', 'piece', 'say', 'kneel', 'fire', 'form', 'note', 'beat', 'need', 'appear', 'move', 'try', 'begin', 'say', 'say', 'say', 'tweet', 'line', 'allow', 'stand', 'take', 'stand', 'use', 'wait', 'get', 'fire', 'tweet', 'pay', 'start', 'swarm', 'disperse', 'tweet', 'fire', 'move', 'push', 'believe', 'broadcast', 'engage', 'stop', 'show', 'tweet', 'report', 'deal', 'use', 'hit', 'come', 'fire', 'send', 'join', 'say', 'say', 'investigate', 'tell', 'tell', 'make', 'arrest', 'say', 'say', 'use', 'release', 'arrest', 'say', 'clash', 'fire', 'continue', 'start', 'confirm', 'say', 'review', 'believe', 'swarm', 'issue', 'issue', 'press', 'begin', 'say', 'tweet', 'engage', 'investigate', 'tell', 'say', 'escalate', 'use', 'expect', 'use', 'try', 'say', 'investigate', 'clear', 'release', 'struggle', 'say', 'arrest', 'say', 'engage', 'make', 'clash', 'fire', 'continue', 'release', 'fire', 'use', 'respond', 'say', 'say', 'deploy', 'say', 'apologize', 'arrest', 'release', 'appear', 'say', 'make', 'tell', 'make', 'engage', 'arrest', 'say', 'say', 'deem', 'say', 'use', 'say', 'say', 'say', 'tell', 'follow', 'arrest', 'respond', 'say', 'tweet', 'struggle', 'say', 'say', 'say', 'send', 'say', 'determine', 'say', 'make', 'say', 'arrest', 'use', 'say', 'call', 'advance', 'come', 'shoot', 'say', 'gather', 'struggle', 'confirm', 'deem', 'say', 'say', 'say', 'say', 'pelt', 'arrive', 'respond', 'use', 'arrest', 'say', 'expect', 'kill', 'know', 'investigate', 'investigate', 'line', 'say', 'fire', 'say', 'brace', 'say', 'fire', 'use', 'say', 'say', 'begin', 'fire', 'say', 'stay', 'start', 'act', 'tweet', 'say', 'say', 'arrest', 'say', 'tweet', 'hit', 'work', 'begin', 'begin', 'tell', 'shoot', 'try', 'tweet', 'encourage', 'arrest', 'announce', 'announce', 'support', 'use', 'say', 'request', 'say', 'investigate', 'say', 'declare', 'say', 'say', 'say', 'say', 'confirm', 'deploy', 'apologize', 'say', 'say', 'describe', 'say', 'respond', 'line', 'detain', 'make', 'attempt', 'say', 'issue', 'say', 'say', 'continue', 'hold', 'give', 'respond', 'try', 'warn', 'line', 'prevent', 'go', 'arrive', 'tell', 'say', 'throw', 'tweet', 'say', 'see', 'release', 'evacuate', 'set', 'make', 'know', 'know', 'put', 'say', 'help', 'say', 'arrest', 'say', 'line', 'say', 'tell', 'go', 'leave', 'appear', 'place', 'respond', 'say', 'say', 'say', 'arrive', 'say', 'say', 'release', 'say', 'attempt', 'say', 'say', 'say', 'say', 'use', 'say', 'arrive', 'work', 'arrive', 'brace', 'say', 'respond', 'shoot', 'issue', 'keep', 'fire', 'tell', 'respond', 'see', 'wait', 'wait', 'say', 'set', 'use', 'erect', 'start', 'set', 'pull', 'end', 'arrest', 'continue', 'say', 'ban', 'send', 'protest', 'estimate', 'wear', 'request', 'push', 'use', 'connect', 'block', 'fire', 'say', 'march', 'make', 'block', 'declare', 'investigate', 'respond', 'declare', 'fan', 'fire', 'enter', 'shoot', 'force', 'report', 'clash', 'apologize', 'open', 'wait', 'clear', 'slow', 'clear', 'use', 'say', 'arrest', 'shoot', 'use', 'warn', 'continue', 'approach', 'need', 'need', 'patrol', 'pull', 'deploy', 'spray', 'crack', 'say', 'say', 'say', 'use', 'respond', 'find', 'say', 'take', 'say', 'say', 'use', 'meet', 'use', 'erect', 'start', 'arrest', 'report', 'march', 'believe', 'use', 'block', 'arrest', 'declare', 'announce', 'say', 'say', 'say', 'describe', 'arrest', 'charge', 'provide', 'point', 'claim', 'arrive', 'push', 'kill', 'confront', 'seek', 'announce', 'work', 'tell', 'prepare', 'search', 'tweet', 'implement', 'kill', 'kill', 'seem', 'say', 'push', 'show', 'arrest', 'prohibit', 'advance', 'come', 'respond', 'pull', 'release', 'respond', 'think', 'think', 'push', 'ask', 'dispute', 'turn', 'wrestle', 'hit', 'investigate', 'shoot', 'say', 'say', 'release', 'release', 'deploy', 'respond', 'tell', 'tell', 'investigate', 'use', 'clear', 'stand', 'resound', 'pledge', 'say', 'stop', 'render', 'use', 'arrive', 'react', 'pin', 'respond', 'decline', 'say', 'urge', 'say', 'work', 'resound', 'pledge', 'say', 'render', 'find', 'stun', 'fire', 'do', 'say', 'say', 'say', 'begin', 'use', 'use', 'shoot', 'shoot', 'shoot', 'crack', 'say', 'say', 'claim', 'say', 'use', 'respond', 'find', 'say', 'fire', 'tell', 'know', 'pour', 'raid', 'shoot', 'detain', 'shoot', 'fire', 'shut', 'declare', 'say', 'seek', 'say', 'identify', 'say', 'return', 'shoot', 'open', 'say', 'make', 'converge', 'converge', 'arrest', 'begin', 'bash', 'gather', 'tweet', 'descend', 'try', 'coordinate', 'push', 'shout', 'handcuff', 'decline', 'arrive', 'use', 'make', 'force', 'investigate', 'fire', 'push', 'squeeze', 'enforce', 'launch', 'launch', 'detain', 'say', 'kill', 'investigate', 'say', 'enter', 'make', 'open', 'interview', 'return', 'say', 'arrest', 'take', 'fire', 'fire', 'put', 'shift', 'erect', 'put', 'begin', 'seem', 'work', 'arrest', 'arrest', 'hold', 'stand', 'say', 'arrest', 'avoid', 'manage', 'find', 'gas', 'move', 'draw', 'charge', 'do', 'let', 'clash', 'say', 'say', 'deem', 'make', 'recover', 'write', 'mention', 'write', 'announce', 'say', 'say', 'investigate', 'investigate', 'begin', 'say', 'block', 'help', 'help', 'use', 'fire', 'surround', 'say', 'form', 'close', 'back', 'lead', 'remove', 'make', 'force', 'fire', 'push', 'throw', 'squeeze', 'arrest', 'make', 'push', 'lob', 'arrest', 'focus', 'arrive', 'continue', 'make', 'clear', 'disperse', 'disperse', 'announce', 'charge', 'take', 'respond', 'promise', 'submit', 'monitor', 'walk', 'arrest', 'appear', 'tear', 'advance', 'begin', 'wait', 'shut', 'unleash', 'respond', 'deploy', 'start', 'close', 'charge', 'launch', 'learn', 'receive', 'arrive', 'pelt', 'open', 'arrest', 'open', 'interview', 'return', 'say', 'take', 'grapple', 'say', 'fire', 'fire', 'fire', 'say', 'order', 'walk', 'fire', 'start', 'release', 'say', 'begin', 'barricade', 'fire', 'escalate', 'gird', 'denounce', 'take', 'escort', 'arrest', 'tweet', 'say', 'tell', 'say', 'say', 'investigate', 'turn', 'increase', 'say', 'close', 'show', 'tweet', 'shut', 'report', 'draw', 'lounge', 'stay', 'characterize', 'crowd', 'aim', 'line', 'say', 'say', 'use', 'move', 'let', 'appear', 'move', 'arrest', 'patrol', 'pull', 'deploy', 'spray', 'fire', 'force', 'fall', 'respond', 'enforce', 'shoot', 'protect', 'close', 'deny', 'come', 'come', 'say', 'say', 'grapple', 'need', 'restrain', 'say', 'say', 'subject', 'say', 'use', 'move', 'try', 'serve', 'protect', 'encircle', 'open', 'tune', 'treat', 'use', 'shoot', 'shoot', 'shoot', 'shoot', 'report', 'add', 'patrol', 'shoot', 'shoot', 'say', 'kill', 'patrol', 'make', 'shoot', 'respond', 'shoot', 'shoot', 'need', 'use', 'shoot', 'release', 'do', 'need', 'harass', 'release', 'allow', 'tell', 'stop', 'drive', 'try', 'protest', 'start', 'stop', 'need', 'begin', 'prohibit', 'detain', 'report', 'say', 'say', 'say', 'keep', 'crack', 'get', 'prohibit', 'recruit', 'assist', 'use', 'converge', 'start', 'appear', 'form', 'back', 'lead', 'remove', 'say', 'enter', 'use', 'shoot', 'say', 'instruct', 'arrest', 'declare', 'push', 'use', 'declare', 'join', 'reveal', 'believe', 'believe', 'come', 'target', 'take', 'apologize', 'arrest', 'spray', 'administer', 'shove', 'disperse', 'try', 'fire', 'fire', 'try', 'push', 'arrest', 'spray', 'shoot', 'respond', 'respond', 'raid', 'say', 'say', 'investigate', 'say', 'investigate', 'remove', 'continue', 'deploy', 'leave', 'fire', 'say', 'announce', 'arrive', 'fire', 'disperse', 'say', 'say', 'share', 'announce', 'arrest', 'use', 'fire', 'respond', 'push', 'fire', 'arrest', 'work', 'set', 'opt', 'let', 'follow', 'move', 'say', 'stand', 'warn', 'say', 'urge', 'say', 'use', 'deploy', 'deploy', 'close', 'gain', 'report', 'say', 'watch', 'break', 'say', 'oblige', 'speak', 'engage', 'kneel', 'deploy', 'ignore', 'come', 'appear', 'shoot', 'use', 'clash', 'form', 'use', 'withdraw', 'lie', 'come', 'violate', 'shoot', 'search', 'say', 'say', 'begin', 'say', 'give', 'weigh', 'say', 'shut', 'respond', 'release', 'say', 'say', 'release', 'continue', 'stay', 'react', 'say', 'disperse', 'arrest', 'leverage', 'use', 'issue', 'use', 'work', 'use', 'contribute', 'hold', 'receive', 'say', 'shoot', 'say', 'make', 'kill', 'kill', 'kill', 'regulate', 'show', 'obtain', 'obtain', 'receive', 'receive', 'say', 'say', 'try', 'release', 'pull', 'perceive', 'respond', 'decide']\n"
     ]
    }
   ],
   "source": [
    "lemma(police_verbs, lemm_police_verbs)\n",
    "print(lemm_police_verbs)"
   ]
  },
  {
   "cell_type": "code",
   "execution_count": 15,
   "metadata": {
    "scrolled": true
   },
   "outputs": [
    {
     "name": "stdout",
     "output_type": "stream",
     "text": [
      "['swarm', 'want', 'call', 'show', 'topple', 'set', 'read', 'return', 'march', 'hold', 'pull', 'call', 'march', 'enact', 'cordone', 'sue', 'cry', 'leave', 'bring', 'march', 'try', 'try', 'try', 'surround', 'occupy', 'march', 'lie', 'stretch', 'walk', 'pack', 'take', 'gather', 'use', 'gather', 'hold', 'pack', 'kneel', 'walk', 'lie', 'ride', 'gather', 'raise', 'pass', 'draw', 'clear', 'dismantle', 'vandalize', 'tear', 'take', 'tear', 'feel', 'take', 'march', 'attempt', 'try', 'attempt', 'try', 'clear', 'attempt', 'face', 'try', 'clear', 'try', 'take', 'attempt', 'face', 'try', 'tell', 'grab', 'clear', 'try', 'put', 'establish', 'attempt', 'topple', 'take', 'attempt', 'topple', 'wear', 'chant', 'gather', 'confront', 'yell', 'hit', 'express', 'take', 'gather', 'keep', 'understand', 'walk', 'topple', 'topple', 'appear', 'demand', 'pull', 'tie', 'march', 'put', 'drag', 'take', 'keep', 'try', 'plan', 'understand', 'pull', 'tie', 'march', 'put', 'drag', 'pull', 'pull', 'awaken', 'protect', 'choose', 'speak', 'take', 'plan', 'clash', 'take', 'shut', 'disperse', 'engage', 'begin', 'comply', 'spend', 'testify', 'paint', 'try', 'occupy', 'rally', 'take', 'awaken', 'make', 'take', 'engage', 'begin', 'comply', 'start', 'vandalize', 'bring', 'dismantle', 'call', 'light', 'point', 'refuse', 'occupy', 'occupy', 'appear', 'flood', 'call', 'react', 'flood', 'attempt', 'shut', 'take', 'attempt', 'gather', 'intervene', 'assemble', 'arrive', 'block', 'undergo', 'take', 'shut', 'shut', 'attempt', 'gather', 'hang', 'plan', 'set', 'gather', 'damage', 'kneel', 'call', 'believe', 'seem', 'kneel', 'march', 'tear', 'load', 'take', 'damage', 'demonstrate', 'begin', 'fire', 'use', 'gather', 'use', 'wrench', 'occupy', 'flood', 'surround', 'return', 'begin', 'head', 'block', 'throw', 'march', 'gather', 'hold', 'conduct', 'kneel', 'demonstrate', 'take', 'take', 'raise', 'rally', 'gather', 'topple', 'occupy', 'take', 'begin', 'hang', 'demand', 'engage', 'ignite', 'point', 'demand', 'occupy', 'flood', 'demand', 'claim', 'help', 'throw', 'shout', 'take', 'challenge', 'point', 'dismantle', 'demand', 'occupy', 'flood', 'establish', 'shut', 'say', 'camp', 'call', 'pull', 'surround', 'remove', 'march', 'challenge', 'think', 'stay', 'participate', 'pass', 'take', 'attack', 'vandalize', 'tie', 'remove', 'march', 'leave', 'pull', 'confront', 'demonstrate', 'turn', 'pull', 'deface', 'call', 'demand', 'march', 'ride', 'flood', 'call', 'call', 'take', 'arrive', 'kneel', 'gather', 'take', 'call', 'demand', 'pull', 'throw', 'gather', 'demand', 'hold', 'gather', 'use', 'wear', 'march', 'adhere', 'topple', 'gather', 'gather', 'take', 'call', 'demand', 'pull', 'tie', 'demonstrate', 'adhere', 'take', 'organize', 'lie', 'pull', 'tie', 'join', 'pull', 'wear', 'infiltrate', 'line', 'adhere', 'adhere', 'take', 'demonstrate', 'wear', 'stand', 'use', 'call', 'stand', 'march', 'ask', 'head', 'dance', 'throw', 'march', 'march', 'demonstrate', 'march', 'adopt', 'appear', 'pull', 'tie', 'add', 'participate', 'cheer', 'chronicle', 'show', 'build', 'dance', 'throw', 'march', 'march', 'demonstrate', 'march', 'adopt', 'gather', 'chant', 'demonstrate', 'fill', 'stop', 'rally', 'join', 'gather', 'wave', 'need', 'rally', 'go', 'start', 'start', 'finish', 'pour', 'clash', 'disperse', 'start', 'finish', 'rally', 'take', 'chant', 'throw', 'ignore', 'gather', 'gather', 'chant', 'demonstrate', 'reach', 'face', 'kneel', 'set', 'face', 'chant', 'gather', 'scramble', 'stand', 'march', 'gather', 'gather', 'throw', 'run', 'disperse', 'throw', 'come', 'swarm', 'overtake', 'pull', 'clash', 'kneel', 'smash', 'chant', 'approach', 'abut', 'gather', 'gather', 'throw', 'continue', 'seek', 'believe', 'deface', 'gather', 'call', 'try', 'argue', 'allege', 'throw', 'gather', 'throw', 'throw', 'file', 'file', 'need', 'could', 'enter', 'shout', 'call', 'learn', 'chant', 'guarantee', 'demonstrate', 'reach', 'face', 'engage', 'capture', 'file', 'gather', 'behave', 'demand', 'kneel', 'rally', 'clash', 'link', 'overtake', 'stay', 'march', 'begin', 'take', 'cheer', 'argue', 'chant', 'take', 'gather', 'plan', 'splinter', 'walk', 'gather', 'throw', 'go', 'clash', 'deploy', 'try', 'turn', 'try', 'throw', 'tend', 'arrest', 'gather', 'walk', 'walk', 'walk', 'splinter', 'walk', 'singe', 'become', 'capture', 'court', 'get', 'carry', 'lie', 'lie', 'demonstrate', 'lie', 'lie', 'block', 'lie', 'lie', 'lie', 'lie', 'emerge', 'cheer', 'clash', 'start', 'serve', 'shout', 'wear', 'flout', 'come', 'get', 'come', 'come', 'rally', 'march', 'argue', 'allege', 'dwindle', 'walk', 'walk', 'splinter', 'arrest', 'gather', 'walk', 'face', 'splinter', 'walk', 'try', 'gather', 'continue', 'march', 'indicate', 'ask', 'want', 'march', 'walk', 'hug', 'express', 'march', 'show', 'break', 'demonstrate', 'throw', 'demand', 'attempt', 'defy', 'gather', 'respond', 'tell', 'hurl', 'begin', 'march', 'face', 'appear', 'shout', 'say', 'believe', 'spot', 'gather', 'confront', 'gather', 'set', 'act', 'stand', 'run', 'commit', 'respond', 'tell', 'hurl', 'begin', 'march', 'face', 'attempt', 'want', 'speak', 'push', 'take', 'gather', 'disperse', 'begin', 'begin', 'bring', 'gather', 'breach', 'run', 'accuse', 'take', 'gather', 'break', 'set', 'face', 'chant', 'gather', 'demand', 'attempt', 'meet', 'topple', 'press', 'disperse', 'hurl', 'face', 'march', 'rally', 'march', 'clash', 'film', 'head', 'run', 'accuse', 'take', 'love', 'look', 'emerge', 'gather', 'gather', 'confront', 'wrestle', 'push', 'hold', 'become', 'become', 'block', 'say', 'pull', 'gather', 'put', 'kneel', 'do', 'crowd', 'scream', 'do', 'chant', 'scream', 'seem', 'know', 'demand', 'line', 'kneel', 'hide', 'come', 'come', 'gather', 'vandalize', 'gather', 'chant', 'assemble', 'begin', 'block', 'gather', 'vandalize', 'gather', 'move', 'kick', 'stand', 'vandalize', 'appear', 'make', 'appear', 'vandalize', 'clash', 'say', 'stand', 'throw', 'voice', 'clash', 'march', 'arrive', 'kneel', 'damage', 'exceed', 'destroy', 'gather', 'take', 'blanket', 'confront', 'push', 'wrestle', 'gather', 'begin', 'begin', 'march', 'tell', 'take', 'take', 'cause', 'leave', 'ignore', 'march', 'throw', 'make', 'take', 'gather', 'bring', 'take', 'gather', 'head', 'continue', 'confront', 'take', 'start', 'throw', 'damage', 'throw', 'breach', 'continue', 'stand', 'throw', 'kneel', 'clash', 'throw', 'arrive', 'mount', 'torch', 'appear', 'make', 'demand', 'begin', 'begin', 'begin', 'burn', 'respond', 'face', 'take', 'set', 'face', 'march', 'block', 'demand', 'enter', 'set', 'respond', 'fight', 'cry', 'lash', 'gather', 'clash', 'confront', 'wrestle', 'push', 'gather', 'march', 'protect', 'gather', 'clash', 'chant', 'push', 'douse', 'bring', 'express', 'chant', 'take', 'refuse', 'march', 'take', 'attempt', 'hear', 'throw', 'take', 'clash', 'smash', 'clash', 'throw', 'stop', 'take', 'call', 'want', 'shut', 'ask', 'descend', 'throw', 'say', 'cram', 'clash', 'file', 'present', 'return', 'spray', 'throw', 'pour', 'carry', 'shut', 'hold', 'march', 'break', 'throw', 'throw', 'chant', 'chant', 'spray', 'throw', 'begin', 'gather', 'disperse', 'convene', 'return', 'include', 'face', 'remain', 'try', 'seem', 'say', 'kneel', 'encounter', 'start', 'march', 'get', 'say', 'resist', 'throw', 'lob', 'hit', 'appear', 'gather', 'show', 'wave', 'gather', 'gather', 'point', 'topple', 'find', 'clash', 'stop', 'continue', 'clash', 'push', 'return', 'file', 'present', 'gather', 'clog', 'go', 'spill', 'chant', 'move', 'urge', 'throw', 'carry', 'gather', 'set', 'march', 'begin', 'show', 'chant', 'call', 'walk', 'face', 'wear', 'shout', 'shout', 'destroy', 'start', 'know', 'start', 'pry', 'stay', 'pull', 'toss', 'cheer', 'pull', 'topple', 'flood', 'sue', 'convert', 'mass', 'chant', 'write', 'paint', 'add', 'gather', 'breach', 'breach', 'throw', 'mass', 'chant', 'write', 'paint', 'add', 'surround', 'march', 'find', 'march', 'topple', 'appear', 'resist', 'throw', 'lob', 'hit', 'crash', 'throw', 'throw', 'begin', 'intensify', 'fill', 'appear', 'go', 'get', 'say', 'gather', 'flee', 'disperse', 'face', 'fortify', 'gather', 'skew', 'shout', 'disperse', 'gather', 'walk', 'hand', 'walk', 'gather', 'tell', 'march', 'jump', 'scatter', 'walk', 'press', 'congregate', 'make', 'congregate', 'protect', 'channel', 'clash', 'gather', 'get', 'demand', 'seem', 'hurl', 'take', 'tear', 'tear', 'seek', 'set', 'set', 'try', 'begin', 'vandalize', 'describe', 'spend', 'move', 'leave', 'erupt', 'singe', 'read', 'crisscross', 'congregate', 'give', 'come', 'gravitate', 'continue', 'arrive', 'come', 'arrive', 'start', 'kneel', 'decry', 'gas', 'vandalize', 'pull', 'blare', 'fill', 'begin', 'yell', 'breach', 'continue', 'go', 'chant', 'call', 'remain', 'gather', 'stand', 'flee', 'say', 'see', 'take', 'press', 'set', 'pass', 'flee', 'gather', 'block', 'show', 'block', 'trade', 'pass', 'yell', 'blur', 'seek', 'call', 'face', 'try', 'hit', 'pursue', 'see', 'flow', 'start', 'run', 'find', 'launch', 'throw', 'rejoin', 'admonish', 'sit', 'gather', 'begin', 'climb', 'take', 'call', 'mill', 'march', 'run', 'point', 'yell', 'shake', 'ask', 'chant', 'say', 'confront', 'walk', 'remain', 'swarm', 'encounter', 'shout', 'gather', 'decry', 'exercise', 'cheer', 'take', 'injure', 'leave', 'race', 'take', 'demand', 'tear', 'tear', 'set', 'set', 'try', 'begin', 'vandalize', 'chant', 'set', 'go', 'pull', 'throw', 'describe', 'spend', 'erupt', 'toss', 'march', 'begin', 'trip', 'smear', 'say', 'lob', 'start', 'return', 'decry', 'march', 'chant', 'say', 'clash', 'march', 'destroy', 'decry', 'target', 'pour', 'get', 'disperse', 'throw', 'demonstrate', 'gather', 'kneel', 'need', 'get', 'stop', 'chant', 'run', 'pack', 'eat', 'seek', 'hurry', 'use', 'go', 'stay', 'dance', 'patrol', 'hand', 'clip', 'decide', 'mill', 'want', 'march', 'rise', 'breach', 'organize', 'begin', 'jump', 'start', 'implore', 'rise', 'begin', 'clash', 'include', 'face', 'remain', 'try', 'seem', 'say', 'kneel', 'encounter', 'start', 'march', 'get', 'attach', 'say', 'break', 'find', 'appear', 'break', 'seek', 'take', 'mass', 'flow', 'laugh', 'shake', 'call', 'visit', 'hope', 'say', 'drift', 'deface', 'gas', 'see', 'dance', 'move', 'peer', 'find', 'return', 'ascend', 'pack', 'expect', 'march', 'plan', 'hold', 'block', 'stay', 'remain', 'chant', 'blare', 'clear', 'take', 'begin', 'dance', 'march', 'arrest', 'march', 'take', 'decide', 'walk', 'continue', 'wonder', 'clash', 'shout', 'realize', 'climb', 'rush', 'wander', 'remain', 'get', 'breach', 'block', 'breach', 'resist', 'try', 'gather', 'topple', 'take', 'take', 'ransack', 'show', 'lament', 'pummel', 'stop', 'vandalize', 'gain', 'continue', 'take', 'call', 'skirmish', 'face', 'throw', 'march', 'stand', 'try', 'throw', 'begin', 'report', 'loot', 'chant', 'report', 'force', 'decorate', 'gather', 'return', 'arrive', 'move', 'negotiate', 'disperse', 'run', 'shatter', 'march', 'link', 'begin', 'begin', 'say', 'cheer', 'jam', 'march', 'march', 'clash', 'seek', 'try', 'throw', 'set', 'march', 'have', 'swing', 'demand', 'say', 'express', 'storm', 'mass', 'show', 'join', 'demand', 'march', 'block', 'act', 'run', 'block', 'walk', 'have', 'demand', 'stop', 'surge', 'continue', 'smash', 'vandalize', 'come', 'say', 'stay', 'want', 'try', 'try', 'smash', 'enter', 'hit', 'take', 'march', 'work', 'rip', 'continue', 'topple', 'lament', 'lament', 'kneel', 'fly']\n"
     ]
    }
   ],
   "source": [
    "lemma(protester_verbs, lemm_protester_verbs)\n",
    "print(lemm_protester_verbs)"
   ]
  },
  {
   "cell_type": "code",
   "execution_count": 16,
   "metadata": {},
   "outputs": [
    {
     "data": {
      "text/html": [
       "<div>\n",
       "<style scoped>\n",
       "    .dataframe tbody tr th:only-of-type {\n",
       "        vertical-align: middle;\n",
       "    }\n",
       "\n",
       "    .dataframe tbody tr th {\n",
       "        vertical-align: top;\n",
       "    }\n",
       "\n",
       "    .dataframe thead th {\n",
       "        text-align: right;\n",
       "    }\n",
       "</style>\n",
       "<table border=\"1\" class=\"dataframe\">\n",
       "  <thead>\n",
       "    <tr style=\"text-align: right;\">\n",
       "      <th></th>\n",
       "      <th>verb</th>\n",
       "      <th>agency</th>\n",
       "      <th>power</th>\n",
       "    </tr>\n",
       "  </thead>\n",
       "  <tbody>\n",
       "    <tr>\n",
       "      <th>0</th>\n",
       "      <td>abandons</td>\n",
       "      <td>agency_pos</td>\n",
       "      <td>power_agent</td>\n",
       "    </tr>\n",
       "    <tr>\n",
       "      <th>1</th>\n",
       "      <td>abolishes</td>\n",
       "      <td>agency_pos</td>\n",
       "      <td>power_agent</td>\n",
       "    </tr>\n",
       "    <tr>\n",
       "      <th>2</th>\n",
       "      <td>absorbs</td>\n",
       "      <td>agency_pos</td>\n",
       "      <td>power_agent</td>\n",
       "    </tr>\n",
       "    <tr>\n",
       "      <th>3</th>\n",
       "      <td>abuses</td>\n",
       "      <td>agency_pos</td>\n",
       "      <td>power_agent</td>\n",
       "    </tr>\n",
       "    <tr>\n",
       "      <th>4</th>\n",
       "      <td>accelerates</td>\n",
       "      <td>agency_pos</td>\n",
       "      <td>power_agent</td>\n",
       "    </tr>\n",
       "    <tr>\n",
       "      <th>...</th>\n",
       "      <td>...</td>\n",
       "      <td>...</td>\n",
       "      <td>...</td>\n",
       "    </tr>\n",
       "    <tr>\n",
       "      <th>2150</th>\n",
       "      <td>yelps</td>\n",
       "      <td>agency_pos</td>\n",
       "      <td>NaN</td>\n",
       "    </tr>\n",
       "    <tr>\n",
       "      <th>2151</th>\n",
       "      <td>yields</td>\n",
       "      <td>agency_equal</td>\n",
       "      <td>power_agent</td>\n",
       "    </tr>\n",
       "    <tr>\n",
       "      <th>2152</th>\n",
       "      <td>zaps</td>\n",
       "      <td>agency_pos</td>\n",
       "      <td>power_agent</td>\n",
       "    </tr>\n",
       "    <tr>\n",
       "      <th>2153</th>\n",
       "      <td>zips</td>\n",
       "      <td>agency_pos</td>\n",
       "      <td>NaN</td>\n",
       "    </tr>\n",
       "    <tr>\n",
       "      <th>2154</th>\n",
       "      <td>zooms</td>\n",
       "      <td>agency_pos</td>\n",
       "      <td>NaN</td>\n",
       "    </tr>\n",
       "  </tbody>\n",
       "</table>\n",
       "<p>2155 rows × 3 columns</p>\n",
       "</div>"
      ],
      "text/plain": [
       "             verb        agency        power\n",
       "0        abandons    agency_pos  power_agent\n",
       "1       abolishes    agency_pos  power_agent\n",
       "2         absorbs    agency_pos  power_agent\n",
       "3          abuses    agency_pos  power_agent\n",
       "4     accelerates    agency_pos  power_agent\n",
       "...           ...           ...          ...\n",
       "2150        yelps    agency_pos          NaN\n",
       "2151       yields  agency_equal  power_agent\n",
       "2152         zaps    agency_pos  power_agent\n",
       "2153         zips    agency_pos          NaN\n",
       "2154        zooms    agency_pos          NaN\n",
       "\n",
       "[2155 rows x 3 columns]"
      ]
     },
     "execution_count": 16,
     "metadata": {},
     "output_type": "execute_result"
    }
   ],
   "source": [
    "conn_frames = pd.read_csv('agency_power.csv')\n",
    "conn_frames"
   ]
  },
  {
   "cell_type": "code",
   "execution_count": 17,
   "metadata": {},
   "outputs": [
    {
     "data": {
      "text/html": [
       "<div>\n",
       "<style scoped>\n",
       "    .dataframe tbody tr th:only-of-type {\n",
       "        vertical-align: middle;\n",
       "    }\n",
       "\n",
       "    .dataframe tbody tr th {\n",
       "        vertical-align: top;\n",
       "    }\n",
       "\n",
       "    .dataframe thead th {\n",
       "        text-align: right;\n",
       "    }\n",
       "</style>\n",
       "<table border=\"1\" class=\"dataframe\">\n",
       "  <thead>\n",
       "    <tr style=\"text-align: right;\">\n",
       "      <th></th>\n",
       "      <th>verb</th>\n",
       "      <th>agency</th>\n",
       "      <th>power</th>\n",
       "      <th>lemm_verb</th>\n",
       "    </tr>\n",
       "  </thead>\n",
       "  <tbody>\n",
       "    <tr>\n",
       "      <th>0</th>\n",
       "      <td>abandons</td>\n",
       "      <td>agency_pos</td>\n",
       "      <td>power_agent</td>\n",
       "      <td>abandon</td>\n",
       "    </tr>\n",
       "    <tr>\n",
       "      <th>1</th>\n",
       "      <td>abolishes</td>\n",
       "      <td>agency_pos</td>\n",
       "      <td>power_agent</td>\n",
       "      <td>abolish</td>\n",
       "    </tr>\n",
       "    <tr>\n",
       "      <th>2</th>\n",
       "      <td>absorbs</td>\n",
       "      <td>agency_pos</td>\n",
       "      <td>power_agent</td>\n",
       "      <td>absorb</td>\n",
       "    </tr>\n",
       "    <tr>\n",
       "      <th>3</th>\n",
       "      <td>abuses</td>\n",
       "      <td>agency_pos</td>\n",
       "      <td>power_agent</td>\n",
       "      <td>abuse</td>\n",
       "    </tr>\n",
       "    <tr>\n",
       "      <th>4</th>\n",
       "      <td>accelerates</td>\n",
       "      <td>agency_pos</td>\n",
       "      <td>power_agent</td>\n",
       "      <td>accelerate</td>\n",
       "    </tr>\n",
       "    <tr>\n",
       "      <th>...</th>\n",
       "      <td>...</td>\n",
       "      <td>...</td>\n",
       "      <td>...</td>\n",
       "      <td>...</td>\n",
       "    </tr>\n",
       "    <tr>\n",
       "      <th>2150</th>\n",
       "      <td>yelps</td>\n",
       "      <td>agency_pos</td>\n",
       "      <td>NaN</td>\n",
       "      <td>yelp</td>\n",
       "    </tr>\n",
       "    <tr>\n",
       "      <th>2151</th>\n",
       "      <td>yields</td>\n",
       "      <td>agency_equal</td>\n",
       "      <td>power_agent</td>\n",
       "      <td>yield</td>\n",
       "    </tr>\n",
       "    <tr>\n",
       "      <th>2152</th>\n",
       "      <td>zaps</td>\n",
       "      <td>agency_pos</td>\n",
       "      <td>power_agent</td>\n",
       "      <td>zap</td>\n",
       "    </tr>\n",
       "    <tr>\n",
       "      <th>2153</th>\n",
       "      <td>zips</td>\n",
       "      <td>agency_pos</td>\n",
       "      <td>NaN</td>\n",
       "      <td>zip</td>\n",
       "    </tr>\n",
       "    <tr>\n",
       "      <th>2154</th>\n",
       "      <td>zooms</td>\n",
       "      <td>agency_pos</td>\n",
       "      <td>NaN</td>\n",
       "      <td>zoom</td>\n",
       "    </tr>\n",
       "  </tbody>\n",
       "</table>\n",
       "<p>2155 rows × 4 columns</p>\n",
       "</div>"
      ],
      "text/plain": [
       "             verb        agency        power   lemm_verb\n",
       "0        abandons    agency_pos  power_agent     abandon\n",
       "1       abolishes    agency_pos  power_agent     abolish\n",
       "2         absorbs    agency_pos  power_agent      absorb\n",
       "3          abuses    agency_pos  power_agent       abuse\n",
       "4     accelerates    agency_pos  power_agent  accelerate\n",
       "...           ...           ...          ...         ...\n",
       "2150        yelps    agency_pos          NaN        yelp\n",
       "2151       yields  agency_equal  power_agent       yield\n",
       "2152         zaps    agency_pos  power_agent         zap\n",
       "2153         zips    agency_pos          NaN         zip\n",
       "2154        zooms    agency_pos          NaN        zoom\n",
       "\n",
       "[2155 rows x 4 columns]"
      ]
     },
     "execution_count": 17,
     "metadata": {},
     "output_type": "execute_result"
    }
   ],
   "source": [
    "conn_verb_list = conn_frames['verb'].to_list()\n",
    "verb_doc = spacy.tokens.Doc(nlp.vocab, words=conn_verb_list)\n",
    "lemm_verbs = []\n",
    "lemma(verb_doc, lemm_verbs)\n",
    "conn_frames['lemm_verb'] = lemm_verbs\n",
    "conn_frames"
   ]
  },
  {
   "cell_type": "code",
   "execution_count": 18,
   "metadata": {},
   "outputs": [
    {
     "data": {
      "text/html": [
       "<div>\n",
       "<style scoped>\n",
       "    .dataframe tbody tr th:only-of-type {\n",
       "        vertical-align: middle;\n",
       "    }\n",
       "\n",
       "    .dataframe tbody tr th {\n",
       "        vertical-align: top;\n",
       "    }\n",
       "\n",
       "    .dataframe thead th {\n",
       "        text-align: right;\n",
       "    }\n",
       "</style>\n",
       "<table border=\"1\" class=\"dataframe\">\n",
       "  <thead>\n",
       "    <tr style=\"text-align: right;\">\n",
       "      <th></th>\n",
       "      <th>verb</th>\n",
       "      <th>agency</th>\n",
       "      <th>power</th>\n",
       "      <th>lemm_verb</th>\n",
       "      <th>agency_val</th>\n",
       "      <th>power_val</th>\n",
       "    </tr>\n",
       "  </thead>\n",
       "  <tbody>\n",
       "    <tr>\n",
       "      <th>0</th>\n",
       "      <td>abandons</td>\n",
       "      <td>agency_pos</td>\n",
       "      <td>power_agent</td>\n",
       "      <td>abandon</td>\n",
       "      <td>1.0</td>\n",
       "      <td>1.0</td>\n",
       "    </tr>\n",
       "    <tr>\n",
       "      <th>1</th>\n",
       "      <td>abolishes</td>\n",
       "      <td>agency_pos</td>\n",
       "      <td>power_agent</td>\n",
       "      <td>abolish</td>\n",
       "      <td>1.0</td>\n",
       "      <td>1.0</td>\n",
       "    </tr>\n",
       "    <tr>\n",
       "      <th>2</th>\n",
       "      <td>absorbs</td>\n",
       "      <td>agency_pos</td>\n",
       "      <td>power_agent</td>\n",
       "      <td>absorb</td>\n",
       "      <td>1.0</td>\n",
       "      <td>1.0</td>\n",
       "    </tr>\n",
       "    <tr>\n",
       "      <th>3</th>\n",
       "      <td>abuses</td>\n",
       "      <td>agency_pos</td>\n",
       "      <td>power_agent</td>\n",
       "      <td>abuse</td>\n",
       "      <td>1.0</td>\n",
       "      <td>1.0</td>\n",
       "    </tr>\n",
       "    <tr>\n",
       "      <th>4</th>\n",
       "      <td>accelerates</td>\n",
       "      <td>agency_pos</td>\n",
       "      <td>power_agent</td>\n",
       "      <td>accelerate</td>\n",
       "      <td>1.0</td>\n",
       "      <td>1.0</td>\n",
       "    </tr>\n",
       "    <tr>\n",
       "      <th>...</th>\n",
       "      <td>...</td>\n",
       "      <td>...</td>\n",
       "      <td>...</td>\n",
       "      <td>...</td>\n",
       "      <td>...</td>\n",
       "      <td>...</td>\n",
       "    </tr>\n",
       "    <tr>\n",
       "      <th>2150</th>\n",
       "      <td>yelps</td>\n",
       "      <td>agency_pos</td>\n",
       "      <td>NaN</td>\n",
       "      <td>yelp</td>\n",
       "      <td>1.0</td>\n",
       "      <td>NaN</td>\n",
       "    </tr>\n",
       "    <tr>\n",
       "      <th>2151</th>\n",
       "      <td>yields</td>\n",
       "      <td>agency_equal</td>\n",
       "      <td>power_agent</td>\n",
       "      <td>yield</td>\n",
       "      <td>0.0</td>\n",
       "      <td>1.0</td>\n",
       "    </tr>\n",
       "    <tr>\n",
       "      <th>2152</th>\n",
       "      <td>zaps</td>\n",
       "      <td>agency_pos</td>\n",
       "      <td>power_agent</td>\n",
       "      <td>zap</td>\n",
       "      <td>1.0</td>\n",
       "      <td>1.0</td>\n",
       "    </tr>\n",
       "    <tr>\n",
       "      <th>2153</th>\n",
       "      <td>zips</td>\n",
       "      <td>agency_pos</td>\n",
       "      <td>NaN</td>\n",
       "      <td>zip</td>\n",
       "      <td>1.0</td>\n",
       "      <td>NaN</td>\n",
       "    </tr>\n",
       "    <tr>\n",
       "      <th>2154</th>\n",
       "      <td>zooms</td>\n",
       "      <td>agency_pos</td>\n",
       "      <td>NaN</td>\n",
       "      <td>zoom</td>\n",
       "      <td>1.0</td>\n",
       "      <td>NaN</td>\n",
       "    </tr>\n",
       "  </tbody>\n",
       "</table>\n",
       "<p>2155 rows × 6 columns</p>\n",
       "</div>"
      ],
      "text/plain": [
       "             verb        agency        power   lemm_verb  agency_val  \\\n",
       "0        abandons    agency_pos  power_agent     abandon         1.0   \n",
       "1       abolishes    agency_pos  power_agent     abolish         1.0   \n",
       "2         absorbs    agency_pos  power_agent      absorb         1.0   \n",
       "3          abuses    agency_pos  power_agent       abuse         1.0   \n",
       "4     accelerates    agency_pos  power_agent  accelerate         1.0   \n",
       "...           ...           ...          ...         ...         ...   \n",
       "2150        yelps    agency_pos          NaN        yelp         1.0   \n",
       "2151       yields  agency_equal  power_agent       yield         0.0   \n",
       "2152         zaps    agency_pos  power_agent         zap         1.0   \n",
       "2153         zips    agency_pos          NaN         zip         1.0   \n",
       "2154        zooms    agency_pos          NaN        zoom         1.0   \n",
       "\n",
       "      power_val  \n",
       "0           1.0  \n",
       "1           1.0  \n",
       "2           1.0  \n",
       "3           1.0  \n",
       "4           1.0  \n",
       "...         ...  \n",
       "2150        NaN  \n",
       "2151        1.0  \n",
       "2152        1.0  \n",
       "2153        NaN  \n",
       "2154        NaN  \n",
       "\n",
       "[2155 rows x 6 columns]"
      ]
     },
     "execution_count": 18,
     "metadata": {},
     "output_type": "execute_result"
    }
   ],
   "source": [
    "agency_arr = conn_frames['agency'].to_numpy()\n",
    "a_conditions = [(pd.isnull(agency_arr)), (agency_arr == 'agency_pos'), (agency_arr == 'agency_equal'), (agency_arr == 'agency_neg')]\n",
    "a_values = [np.nan, 1.0, 0.0, -1.0]\n",
    "\n",
    "conn_frames['agency_val'] = np.select(a_conditions, a_values)\n",
    "\n",
    "power_arr = conn_frames['power'].to_numpy()\n",
    "p_conditions = [(pd.isnull(power_arr)), (power_arr == 'power_agent'), (power_arr == 'power_equal'), (power_arr == 'power_theme')]\n",
    "p_values = [np.nan, 1.0, 0.0, -1.0]\n",
    "\n",
    "conn_frames['power_val'] = np.select(p_conditions, p_values)\n",
    "\n",
    "conn_frames"
   ]
  },
  {
   "cell_type": "code",
   "execution_count": 19,
   "metadata": {},
   "outputs": [],
   "source": [
    "pol_agency = []\n",
    "pol_power = []\n",
    "\n",
    "pro_agency = []\n",
    "pro_power = []"
   ]
  },
  {
   "cell_type": "code",
   "execution_count": 20,
   "metadata": {},
   "outputs": [],
   "source": [
    "def agency(verb_lst, df, final_lst):\n",
    "    for verb in verb_lst:\n",
    "        if (df['lemm_verb'] == verb).bool:\n",
    "            df2 = df.loc[df['lemm_verb'] == verb, 'agency_val']\n",
    "            if len(df2) > 0:\n",
    "                final_lst.append(df2.iloc[0])\n",
    "            else:\n",
    "                final_lst.append(np.nan)\n",
    "\n",
    "def power(verb_lst, df, final_lst):\n",
    "    for verb in verb_lst:\n",
    "        if (df['lemm_verb'] == verb).bool:\n",
    "            df2 = df.loc[df['lemm_verb'] == verb, 'power_val']\n",
    "            if len(df2) > 0:\n",
    "                final_lst.append(df2.iloc[0])\n",
    "            else:\n",
    "                final_lst.append(np.nan)"
   ]
  },
  {
   "cell_type": "code",
   "execution_count": 21,
   "metadata": {},
   "outputs": [
    {
     "data": {
      "text/plain": [
       "array([ 1.,  1.,  1., ..., -1.,  1.,  1.])"
      ]
     },
     "execution_count": 21,
     "metadata": {},
     "output_type": "execute_result"
    }
   ],
   "source": [
    "agency(lemm_police_verbs, conn_frames, pol_agency)\n",
    "pol_agency = np.array(pol_agency)\n",
    "pol_agency"
   ]
  },
  {
   "cell_type": "code",
   "execution_count": 22,
   "metadata": {},
   "outputs": [
    {
     "data": {
      "text/plain": [
       "array([ 1., -1.,  1., ..., nan,  1.,  1.])"
      ]
     },
     "execution_count": 22,
     "metadata": {},
     "output_type": "execute_result"
    }
   ],
   "source": [
    "agency(lemm_protester_verbs, conn_frames, pro_agency)\n",
    "pro_agency = np.array(pro_agency)\n",
    "pro_agency"
   ]
  },
  {
   "cell_type": "code",
   "execution_count": 23,
   "metadata": {},
   "outputs": [
    {
     "data": {
      "text/plain": [
       "array([ 1.,  1.,  1., ...,  0., -1.,  1.])"
      ]
     },
     "execution_count": 23,
     "metadata": {},
     "output_type": "execute_result"
    }
   ],
   "source": [
    "power(lemm_police_verbs, conn_frames, pol_power)\n",
    "pol_power = np.array(pol_power)\n",
    "pol_power"
   ]
  },
  {
   "cell_type": "code",
   "execution_count": 24,
   "metadata": {},
   "outputs": [
    {
     "data": {
      "text/plain": [
       "array([nan, -1., -1., ..., nan, nan, nan])"
      ]
     },
     "execution_count": 24,
     "metadata": {},
     "output_type": "execute_result"
    }
   ],
   "source": [
    "power(lemm_protester_verbs, conn_frames, pro_power)\n",
    "pro_power = np.array(pro_power)\n",
    "pro_power"
   ]
  },
  {
   "cell_type": "code",
   "execution_count": 31,
   "metadata": {},
   "outputs": [
    {
     "name": "stdout",
     "output_type": "stream",
     "text": [
      "statistic: 2.57260937935974; p-value: 0.005074398037629736\n"
     ]
    }
   ],
   "source": [
    "from scipy import stats\n",
    "# NULL HYPOTHESIS: pol_agency <= pro_agency, alpha = 0.05\n",
    "agency_ttest = stats.ttest_ind(pol_agency, pro_agency, nan_policy='omit')\n",
    "one_sided_pvalue1 = agency_ttest.pvalue / 2\n",
    "print(f\"statistic: {agency_ttest.statistic}; p-value: {one_sided_pvalue1}\")"
   ]
  },
  {
   "cell_type": "code",
   "execution_count": 32,
   "metadata": {},
   "outputs": [
    {
     "name": "stdout",
     "output_type": "stream",
     "text": [
      "statistic: -2.1142335288229344; p-value: 0.01730157173526271\n"
     ]
    }
   ],
   "source": [
    "# NULL HYPOTHESIS: pol_power >= pro_power, alpha = 0.05\n",
    "power_ttest = stats.ttest_ind(pol_power, pro_power, nan_policy='omit')\n",
    "one_sided_pvalue2 = power_ttest.pvalue / 2\n",
    "print(f\"statistic: {power_ttest.statistic}; p-value: {one_sided_pvalue2}\")"
   ]
  },
  {
   "cell_type": "markdown",
   "metadata": {},
   "source": [
    "### CODE DUMP"
   ]
  },
  {
   "cell_type": "code",
   "execution_count": 50,
   "metadata": {},
   "outputs": [
    {
     "data": {
      "text/plain": [
       "1528"
      ]
     },
     "execution_count": 50,
     "metadata": {},
     "output_type": "execute_result"
    }
   ],
   "source": [
    "len(pol_agency)"
   ]
  },
  {
   "cell_type": "code",
   "execution_count": 51,
   "metadata": {},
   "outputs": [
    {
     "data": {
      "text/plain": [
       "1245"
      ]
     },
     "execution_count": 51,
     "metadata": {},
     "output_type": "execute_result"
    }
   ],
   "source": [
    "len(pro_agency)"
   ]
  },
  {
   "cell_type": "code",
   "execution_count": 39,
   "metadata": {},
   "outputs": [
    {
     "data": {
      "text/plain": [
       "0.8388203017832647"
      ]
     },
     "execution_count": 39,
     "metadata": {},
     "output_type": "execute_result"
    }
   ],
   "source": [
    "np.nanmean(pol_agency)"
   ]
  },
  {
   "cell_type": "code",
   "execution_count": 46,
   "metadata": {},
   "outputs": [
    {
     "data": {
      "text/plain": [
       "70"
      ]
     },
     "execution_count": 46,
     "metadata": {},
     "output_type": "execute_result"
    }
   ],
   "source": [
    "np.isnan(pol_agency).sum()"
   ]
  },
  {
   "cell_type": "code",
   "execution_count": 40,
   "metadata": {},
   "outputs": [
    {
     "data": {
      "text/plain": [
       "0.7869142351900973"
      ]
     },
     "execution_count": 40,
     "metadata": {},
     "output_type": "execute_result"
    }
   ],
   "source": [
    "np.nanmean(pro_agency)"
   ]
  },
  {
   "cell_type": "code",
   "execution_count": 47,
   "metadata": {},
   "outputs": [
    {
     "data": {
      "text/plain": [
       "114"
      ]
     },
     "execution_count": 47,
     "metadata": {},
     "output_type": "execute_result"
    }
   ],
   "source": [
    "np.isnan(pro_agency).sum()"
   ]
  },
  {
   "cell_type": "code",
   "execution_count": 41,
   "metadata": {},
   "outputs": [
    {
     "data": {
      "text/plain": [
       "0.45194424064563465"
      ]
     },
     "execution_count": 41,
     "metadata": {},
     "output_type": "execute_result"
    }
   ],
   "source": [
    "np.nanmean(pol_power)"
   ]
  },
  {
   "cell_type": "code",
   "execution_count": 48,
   "metadata": {},
   "outputs": [
    {
     "data": {
      "text/plain": [
       "165"
      ]
     },
     "execution_count": 48,
     "metadata": {},
     "output_type": "execute_result"
    }
   ],
   "source": [
    "np.isnan(pol_power).sum()"
   ]
  },
  {
   "cell_type": "code",
   "execution_count": 42,
   "metadata": {},
   "outputs": [
    {
     "data": {
      "text/plain": [
       "0.5123789020452099"
      ]
     },
     "execution_count": 42,
     "metadata": {},
     "output_type": "execute_result"
    }
   ],
   "source": [
    "np.nanmean(pro_power)"
   ]
  },
  {
   "cell_type": "code",
   "execution_count": 49,
   "metadata": {},
   "outputs": [
    {
     "data": {
      "text/plain": [
       "316"
      ]
     },
     "execution_count": 49,
     "metadata": {},
     "output_type": "execute_result"
    }
   ],
   "source": [
    "np.isnan(pro_power).sum()"
   ]
  }
 ],
 "metadata": {
  "kernelspec": {
   "display_name": "Python 3",
   "language": "python",
   "name": "python3"
  },
  "language_info": {
   "codemirror_mode": {
    "name": "ipython",
    "version": 3
   },
   "file_extension": ".py",
   "mimetype": "text/x-python",
   "name": "python",
   "nbconvert_exporter": "python",
   "pygments_lexer": "ipython3",
   "version": "3.7.6"
  }
 },
 "nbformat": 4,
 "nbformat_minor": 4
}
